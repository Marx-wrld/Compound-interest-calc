{
 "cells": [
  {
   "cell_type": "code",
   "execution_count": 1,
   "id": "85a1ec0a",
   "metadata": {},
   "outputs": [
    {
     "name": "stdout",
     "output_type": "stream",
     "text": [
      "Enter Principle Value : 55600\n",
      "Enter Rate Value : 5\n",
      "Enter Time Value : 45\n",
      "Compound interest is 443966.4333182009\n"
     ]
    }
   ],
   "source": [
    "def compound_interest(principle, rate, time):\n",
    "\n",
    "#calculating compound interest\n",
    "\n",
    "    Amount = principle * (pow((1 + rate / 100), time))\n",
    "    CI = Amount - principle\n",
    "    print(\"Compound interest is\", CI)\n",
    "    \n",
    "P = float(input(\"Enter Principle Value : \"))\n",
    "R = float(input(\"Enter Rate Value : \"))\n",
    "T = float(input(\"Enter Time Value : \"))\n",
    "compound_interest(P,R,T)"
   ]
  },
  {
   "cell_type": "code",
   "execution_count": null,
   "id": "5dadc83a",
   "metadata": {},
   "outputs": [],
   "source": []
  }
 ],
 "metadata": {
  "kernelspec": {
   "display_name": "Python 3 (ipykernel)",
   "language": "python",
   "name": "python3"
  },
  "language_info": {
   "codemirror_mode": {
    "name": "ipython",
    "version": 3
   },
   "file_extension": ".py",
   "mimetype": "text/x-python",
   "name": "python",
   "nbconvert_exporter": "python",
   "pygments_lexer": "ipython3",
   "version": "3.9.7"
  }
 },
 "nbformat": 4,
 "nbformat_minor": 5
}
